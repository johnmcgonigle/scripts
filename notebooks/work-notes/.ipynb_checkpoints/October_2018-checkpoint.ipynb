{
 "cells": [
  {
   "cell_type": "markdown",
   "metadata": {},
   "source": [
    "October 2018:\n",
    "\n",
    "2018/10/10:\n",
    "I am trying to make a single shippable docker image to provide to Repositive customers and/or partners.\n",
    "\n",
    "Trying to use Bruno's nixez docker building package:\n",
    "I don't however seem to be able to get it to recognise and try to build any of the changes I have tried.\n",
    "I copied pdx-analysis, a package we know works and added it to the top level package but I haven't managed to get it to recognise the changes and run it yet. \n",
    "\n",
    "CMD: nixez build shippablePkgs\n",
    "`error: attribute 'shippablePkgs' in selection path 'shippablePkgs' not found`\n",
    "\n",
    "\n",
    "2018/10/11:\n",
    "I started from a fresh repo. \n",
    "\n",
    "So somehow editing pkgs/top-level/all-packages.nix I have managed to get the nix package to run:\n",
    "CMD: nixez build testPkg\n",
    "\n",
    "\n",
    "Reinstalling nix:\n",
    "I decided to go back basics after failing to understand most of the error messages coming out of the nix package manager. \n",
    "To install:\n",
    "`curl https://nixos.org/nix/install | sh`\n",
    "\n",
    "To uninstall\n",
    "sudo rm -rf /nix\n",
    "sudo rm -rf ~/.nix-*\n",
    "\n",
    "I have now moved onto making my first package, I'm using the fastqc as a testcase.\n",
    "Instructions to the basics of this can be found here:\n",
    "https://nixos.org/nix/manual/#ch-simple-expression\n",
    "\n",
    "One part of this process is the need to compute a sha-256 hash for any url we are downloading values from to validate it against.\n",
    "\n",
    "This can be done on a mac using the following command:\n",
    "`shasum -a 256`\n",
    "\n",
    "So to compute the sha-256 hash for a url.\n",
    "`curl <url> | shasum -a 256`\n",
    "\n"
   ]
  },
  {
   "cell_type": "markdown",
   "metadata": {},
   "source": []
  },
  {
   "cell_type": "markdown",
   "metadata": {},
   "source": [
    "##2018/10/11\n",
    "\n",
    "Continue with the idea of generating a FastQC nix generated docker, I have currently hit the following wall.\n",
    "`'/nix/store/1cgzyzvpa0y23vk2dfgrw4q2v63ngbg5-fastqc_v0.11.5.zip' with sha256 hash '1kihf3ila4885zdn4zzb355fmnrfnyr4q3jylhzf7fqp01k6nwzi' instead of the expected hash '1yi6yayywl1m5ihilphgrfkjsp94kzdppdkkjaj304n6bm5vk3fa'\n",
    "cannot build derivation '/nix/store/p901y80p1zk2jxx0ah1r6z54rhpybp7q-fastqc_v0.11.5.drv':`\n",
    "\n",
    "This seems to suggest that the sha-256 sum is different from the one gained by running:\n",
    "`nix-prefetch-url --unpack  <url> | shasum -a 256`\n",
    "\n",
    "Fixed by removing the manual shasumming\n",
    "`nix-prefetch-url --unpack <url>` returns a sha-256 sum anyway.\n",
    "\n",
    "In order to transport the nix package to the location to run nixez on linux\n",
    "`tar -czk <file>`\n",
    "`scp <file> <server>:`\n"
   ]
  },
  {
   "cell_type": "code",
   "execution_count": null,
   "metadata": {},
   "outputs": [],
   "source": []
  }
 ],
 "metadata": {
  "kernelspec": {
   "display_name": "Python 3",
   "language": "python",
   "name": "python3"
  }
 },
 "nbformat": 4,
 "nbformat_minor": 2
}
